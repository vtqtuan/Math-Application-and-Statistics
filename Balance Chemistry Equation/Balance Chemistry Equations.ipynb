{
 "metadata": {
  "language_info": {
   "codemirror_mode": {
    "name": "ipython",
    "version": 3
   },
   "file_extension": ".py",
   "mimetype": "text/x-python",
   "name": "python",
   "nbconvert_exporter": "python",
   "pygments_lexer": "ipython3",
   "version": "3.7.6-final"
  },
  "orig_nbformat": 2,
  "kernelspec": {
   "name": "python3",
   "display_name": "Python 3"
  }
 },
 "nbformat": 4,
 "nbformat_minor": 2,
 "cells": [
  {
   "cell_type": "code",
   "execution_count": 2,
   "metadata": {},
   "outputs": [],
   "source": [
    "import numpy as np \n",
    "import sympy as sp\n",
    "from IPython.display import Latex\n",
    "from sklearn.feature_extraction import DictVectorizer\n",
    "from collections import defaultdict"
   ]
  },
  {
   "cell_type": "code",
   "execution_count": 3,
   "metadata": {},
   "outputs": [],
   "source": [
    "def decay_an_element(mol):\n",
    "    \"\"\"\n",
    "    mol: a tuple is an element with it's index\n",
    "    return a Latex string\n",
    "    \"\"\"\n",
    "    if mol[-1]==1:\n",
    "        return r\"\\text{\" + mol[0] + r\"}\"\n",
    "    return r\"\\text{\" + mol[0] + r\"}_\" + str(mol[-1])"
   ]
  },
  {
   "cell_type": "code",
   "execution_count": 4,
   "metadata": {
    "tags": []
   },
   "outputs": [],
   "source": [
    "def decay_an_group_element(mol):\n",
    "    \"\"\"\n",
    "    mol: a tuple is an group of chemical element with it's index\n",
    "    return a Latex string\n",
    "    \"\"\"\n",
    "    if type(mol[0]) == type(\"str\"):\n",
    "        return decay_an_element(mol)\n",
    "    latex_string = \"\"\n",
    "    for item in mol[0]:\n",
    "        latex_string += decay_an_group_element(item)\n",
    "    if mol[-1] == 1:\n",
    "        return latex_string\n",
    "    return \"(\" + latex_string + \")_\" + str(mol[-1])"
   ]
  },
  {
   "cell_type": "code",
   "execution_count": 5,
   "metadata": {
    "tags": []
   },
   "outputs": [],
   "source": [
    "def chemical_formula(mol):\n",
    "    \"\"\"\n",
    "    mol: a list of group chemistry element\n",
    "    return a Latex string\n",
    "    \"\"\"\n",
    "    latex_string = \"\"\n",
    "    for item in mol:\n",
    "        latex_string += decay_an_group_element(item)\n",
    "    return latex_string"
   ]
  },
  {
   "cell_type": "code",
   "execution_count": 6,
   "metadata": {
    "tags": []
   },
   "outputs": [],
   "source": [
    "def get_list_element_in_group(mol):\n",
    "    \"\"\"\n",
    "    mol: a tuple of group chemistry element\n",
    "    return a list of element and it's index\n",
    "    \"\"\"\n",
    "    lst = list()\n",
    "    if type(mol[0]) == type(\"str\"):\n",
    "        return tuple(mol)\n",
    "    for item in mol[0]:\n",
    "        item = list(item)\n",
    "        item[-1] *= mol[-1]\n",
    "        item = tuple(item)\n",
    "        lst.append(get_list_element_in_group(item))\n",
    "    return lst"
   ]
  },
  {
   "cell_type": "code",
   "execution_count": 7,
   "metadata": {
    "tags": []
   },
   "outputs": [],
   "source": [
    "def flatten(x):\n",
    "    \"\"\"\n",
    "    x: a complex list need to flatten\n",
    "    return a flatten of x\n",
    "    \"\"\"\n",
    "    result = []\n",
    "    for el in x:\n",
    "        if hasattr(el, \"__iter__\") and not isinstance(el, str):\n",
    "            result.extend(flatten(el))\n",
    "        else:\n",
    "            result.append(el)\n",
    "    return result\n",
    "\n",
    "def get_list_element_chemical_formula(mol):\n",
    "    \"\"\"\n",
    "    mol: a list of group chemistry element\n",
    "    return a list of element and it's index\n",
    "    \"\"\"\n",
    "    lst = list()\n",
    "    for item in mol:\n",
    "        lst.append(get_list_element_in_group(item))\n",
    "    flat = flatten(lst)\n",
    "    d = defaultdict(list)\n",
    "    for x,y in zip (flat[::2], flat[1::2]):\n",
    "        d[x].append(y)\n",
    "    d = dict(d)\n",
    "    for x in d.keys():\n",
    "        rs = 0\n",
    "        for _ in d[x]:\n",
    "            rs += _\n",
    "        d[x] = rs\n",
    "    return d\n"
   ]
  },
  {
   "cell_type": "code",
   "execution_count": 8,
   "metadata": {
    "tags": []
   },
   "outputs": [],
   "source": [
    "def balance_chemical_equation(lhs, rhs):\n",
    "    lhs_dict = [get_list_element_chemical_formula(item) for item in lhs ]\n",
    "    rhs_dict = [get_list_element_chemical_formula(item) for item in rhs ]\n",
    "    for dict_item in rhs_dict:\n",
    "        for t in dict_item:\n",
    "            dict_item[t] *= -1  \n",
    "    total_list = lhs_dict + rhs_dict\n",
    "    dictvectorizer = DictVectorizer(sparse=False)\n",
    "    features = dictvectorizer.fit_transform(total_list).T\n",
    "    features = np.array(features).astype(int)\n",
    "    mtrx = sp.Matrix(features)\n",
    "    coeffs = mtrx.nullspace()[0]\n",
    "    coeffs *= sp.lcm([term.q for term in coeffs])\n",
    "    lhs_sol = \"\"\n",
    "    rhs_sol = \"\"\n",
    "    for i in range(0, len(lhs)):\n",
    "        if coeffs[i] == 1:\n",
    "            if i == len(lhs)-1:\n",
    "                lhs_sol += chemical_formula(lhs[i]) + r\" \\to \"\n",
    "            else:\n",
    "                lhs_sol += chemical_formula(lhs[i]) + r\" + \"\n",
    "        else:\n",
    "            if i == len(lhs)-1:\n",
    "                lhs_sol += str(coeffs[i]) + chemical_formula(lhs[i]) + r\" \\to \"\n",
    "            else:\n",
    "                lhs_sol += str(coeffs[i]) + chemical_formula(lhs[i]) + r\" + \"\n",
    "    for i in range(0, len(rhs)):\n",
    "        if coeffs[i + len(lhs)] == 1:\n",
    "            if i == len(rhs)-1:\n",
    "                rhs_sol += chemical_formula(rhs[i]) + r\" \"\n",
    "            else:\n",
    "                rhs_sol += chemical_formula(rhs[i]) + r\" + \"\n",
    "        else:\n",
    "            if i == len(rhs)-1:\n",
    "                rhs_sol += str(coeffs[i + len(lhs)]) + chemical_formula(rhs[i]) + r\" \"\n",
    "            else:\n",
    "                rhs_sol += str(coeffs[i + len(lhs)]) + chemical_formula(rhs[i]) + r\" + \"\n",
    "    return lhs_sol + rhs_sol"
   ]
  },
  {
   "cell_type": "code",
   "execution_count": 9,
   "metadata": {
    "tags": []
   },
   "outputs": [
    {
     "output_type": "execute_result",
     "data": {
      "text/plain": "<IPython.core.display.Latex object>",
      "text/latex": "$$2\\text{H}_2 + \\text{O}_2 \\to 2\\text{H}_2\\text{O} $$"
     },
     "metadata": {},
     "execution_count": 9
    }
   ],
   "source": [
    "H2 = [(\"H\", 2)]\n",
    "O2 = [(\"O\", 2)]\n",
    "H2O = [(\"H\", 2), (\"O\", 1)]\n",
    "\n",
    "sol = balance_chemical_equation([H2, O2], [H2O])\n",
    "Latex(\"$$\" + sol + \"$$\")\n"
   ]
  },
  {
   "cell_type": "code",
   "execution_count": 10,
   "metadata": {
    "tags": []
   },
   "outputs": [
    {
     "output_type": "execute_result",
     "data": {
      "text/plain": "<IPython.core.display.Latex object>",
      "text/latex": "$$2\\text{Al}(\\text{O}\\text{H})_3 + 3\\text{H}_2\\text{S}\\text{O}_4 \\to \\text{Al}_2(\\text{S}\\text{O}_4)_3 + 6\\text{H}_2\\text{O} $$"
     },
     "metadata": {},
     "execution_count": 10
    }
   ],
   "source": [
    "Al_OH3 = [(\"Al\", 1), ([(\"O\", 1), (\"H\", 1)], 3)]\n",
    "H2_SO4 = [(\"H\", 2), ([(\"S\", 1), (\"O\", 4)], 1)]\n",
    "Al2_SO43 = [(\"Al\", 2), ([(\"S\", 1), (\"O\", 4)], 3)]\n",
    "H2O = [(\"H\", 2), (\"O\", 1)]\n",
    "\n",
    "equation = balance_chemical_equation([Al_OH3, H2_SO4], [Al2_SO43, H2O])\n",
    "Latex(\"$$\" + equation + \"$$\")"
   ]
  },
  {
   "cell_type": "code",
   "execution_count": 11,
   "metadata": {
    "tags": []
   },
   "outputs": [
    {
     "output_type": "execute_result",
     "data": {
      "text/plain": "<IPython.core.display.Latex object>",
      "text/latex": "$$\\text{Na}\\text{O}\\text{H} + \\text{H}\\text{Cl} \\to \\text{Na}\\text{Cl} + \\text{H}_2\\text{O} $$"
     },
     "metadata": {},
     "execution_count": 11
    }
   ],
   "source": [
    "Na_OH = [(\"Na\", 1), ([(\"O\", 1), (\"H\", 1)], 1)]\n",
    "HCl = [(\"H\", 1), (\"Cl\", 1)]\n",
    "Na_Cl = [(\"Na\", 1), (\"Cl\", 1)]\n",
    "H2O = [(\"H\", 2), (\"O\", 1)]\n",
    "equation = balance_chemical_equation([Na_OH, HCl], [Na_Cl, H2O])\n",
    "Latex(\"$$\" + equation + \"$$\")"
   ]
  },
  {
   "cell_type": "code",
   "execution_count": 12,
   "metadata": {
    "tags": []
   },
   "outputs": [
    {
     "output_type": "execute_result",
     "data": {
      "text/plain": "<IPython.core.display.Latex object>",
      "text/latex": "$$8\\text{Al} + 30\\text{H}\\text{N}\\text{O}_3 \\to 8\\text{Al}(\\text{N}\\text{O}_3)_3 + 9\\text{H}_2\\text{O} + 3\\text{N}\\text{H}_4\\text{N}\\text{O}_3 $$"
     },
     "metadata": {},
     "execution_count": 12
    }
   ],
   "source": [
    "Al = [(\"Al\", 1)]\n",
    "HNO3 = [(\"H\", 1), ([(\"N\", 1), (\"O\", 3)], 1)]\n",
    "NO = [(\"N\", 1), (\"O\", 1)]\n",
    "NH4NO3 = [([(\"N\", 1),(\"H\", 4)], 1), ([(\"N\", 1), (\"O\", 3)], 1)]\n",
    "AlNO33 = [(\"Al\", 1), ([(\"N\", 1), (\"O\", 3)], 3)]\n",
    "H2O = [(\"H\", 2), (\"O\", 1)]\n",
    "equation = balance_chemical_equation([Al, HNO3], [AlNO33, H2O, NH4NO3])\n",
    "Latex(\"$$\" + equation + \"$$\")"
   ]
  },
  {
   "cell_type": "code",
   "execution_count": 13,
   "metadata": {
    "tags": []
   },
   "outputs": [
    {
     "output_type": "execute_result",
     "data": {
      "text/plain": "<IPython.core.display.Latex object>",
      "text/latex": "$$\\text{Fe}_3\\text{O}_4 + 8\\text{H}\\text{Cl} \\to 2\\text{Fe}\\text{Cl}_3 + \\text{Fe}\\text{Cl}_2 + 4\\text{H}_2\\text{O} $$"
     },
     "metadata": {},
     "execution_count": 13
    }
   ],
   "source": [
    "Fe3_O4 = [(\"Fe\", 3), (\"O\", 4)]\n",
    "HCl = [(\"H\", 1), (\"Cl\", 1)]\n",
    "FeCl2 = [(\"Fe\", 1), (\"Cl\", 2)]\n",
    "FeCl3 = [(\"Fe\", 1), (\"Cl\", 3)]\n",
    "H2O = [(\"H\", 2), (\"O\", 1)]\n",
    "\n",
    "equation = balance_chemical_equation([Fe3_O4, HCl], [FeCl3, FeCl2, H2O])\n",
    "Latex(\"$$\" + equation + \"$$\")"
   ]
  },
  {
   "cell_type": "code",
   "execution_count": 14,
   "metadata": {},
   "outputs": [
    {
     "output_type": "execute_result",
     "data": {
      "text/plain": "<IPython.core.display.Latex object>",
      "text/latex": "$$\\text{C}\\text{H}_3\\text{C}\\text{H}\\text{O} + 2\\text{Ag}(\\text{N}\\text{H}_3)_2\\text{O}\\text{H} \\to 2\\text{Ag} + 3\\text{N}\\text{H}_3 + \\text{C}\\text{H}_3\\text{C}\\text{O}\\text{O}\\text{N}\\text{H}_4 + \\text{H}_2\\text{O} $$"
     },
     "metadata": {},
     "execution_count": 14
    }
   ],
   "source": [
    "CH3_CHO = [([(\"C\", 1), (\"H\", 3)], 1), ([(\"C\", 1), (\"H\", 1), (\"O\", 1)], 1)]\n",
    "Ag_NH3_2_OH = [(\"Ag\", 1), ([(\"N\", 1), (\"H\", 3)], 2), ([(\"O\", 1), (\"H\", 1)], 1)]\n",
    "CH3COONH4 = [(\"C\",1),(\"H\",3),(\"C\",1),(\"O\",1),(\"O\",1),(\"N\",1),(\"H\",4)]\n",
    "Ag = [(\"Ag\", 1)]\n",
    "H2O = [(\"H\", 2), (\"O\", 1)]\n",
    "NH3 = [(\"N\", 1), (\"H\", 3)]\n",
    "equation = balance_chemical_equation([CH3_CHO, Ag_NH3_2_OH], [Ag, NH3, CH3COONH4, H2O])\n",
    "Latex(\"$$\" + equation + \"$$\")"
   ]
  }
 ]
}